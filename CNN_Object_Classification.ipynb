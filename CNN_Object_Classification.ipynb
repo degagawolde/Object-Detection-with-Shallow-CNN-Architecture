{
 "cells": [
  {
   "cell_type": "code",
   "execution_count": 1,
   "metadata": {},
   "outputs": [],
   "source": [
    "import warnings\n",
    "warnings.filterwarnings(\"ignore\")"
   ]
  },
  {
   "cell_type": "code",
   "execution_count": 2,
   "metadata": {},
   "outputs": [
    {
     "name": "stderr",
     "output_type": "stream",
     "text": [
      "Using TensorFlow backend.\n"
     ]
    }
   ],
   "source": [
    "# import all the required library\n",
    "import cv2\n",
    "import os \n",
    "import numpy as np\n",
    "import matplotlib\n",
    "import matplotlib.pyplot as plt\n",
    "\n",
    "from sklearn.preprocessing import LabelEncoder\n",
    "from sklearn.preprocessing import LabelBinarizer\n",
    "from sklearn.model_selection import train_test_split\n",
    "from sklearn.metrics import classification_report\n",
    "from sklearn.datasets import make_blobs\n",
    "from imutils import paths\n",
    "\n",
    "from keras.models import Sequential\n",
    "from keras.layers.normalization import BatchNormalization\n",
    "from keras.layers.convolutional import Conv2D, MaxPooling2D\n",
    "from keras.layers.core import Activation\n",
    "from keras.layers.core import Flatten\n",
    "from keras.layers.core import Dropout\n",
    "from keras.layers.core import Dense\n",
    "from keras.optimizers import SGD\n",
    "from keras import backend as K"
   ]
  },
  {
   "cell_type": "code",
   "execution_count": 3,
   "metadata": {},
   "outputs": [],
   "source": [
    "class SimplePreprocessor:\n",
    "    def __init__(self, width, height, inter=cv2.INTER_AREA):\n",
    "        # store the target image width, height, and interpolation\n",
    "        # method used when resizing\n",
    "        self.width = width\n",
    "        self.height = height\n",
    "        self.inter = inter\n",
    "\n",
    "    def preprocess(self, image):\n",
    "        # resize the image to a fixed size, ignoring the aspect ratio\n",
    "        return cv2.resize(image, (self.width, self.height),interpolation=self.inter)"
   ]
  },
  {
   "cell_type": "code",
   "execution_count": 4,
   "metadata": {},
   "outputs": [],
   "source": [
    "class SimpleDatasetLoader:\n",
    "    def __init__(self, preprocessors=None):\n",
    "        #store the image preprocessors\n",
    "        self.preprocessors = preprocessors\n",
    "\n",
    "        #if the preprocessors are none initialize as an empty list\n",
    "        if self.preprocessors is None:\n",
    "            self.preprocessors = []\n",
    "            \n",
    "    def load(self, imagePaths, verbose = -1):\n",
    "        #initialize the list of fearures nad labels \n",
    "        data = []\n",
    "        labels = []\n",
    "        \n",
    "        #loop over the input iamges\n",
    "        for(i, imagePath) in enumerate(imagePaths):\n",
    "            image = cv2.imread(imagePath)\n",
    "            label = imagePath.split(os.path.sep)[-2]\n",
    "            if self.preprocessors is not None:\n",
    "                #loop over the preprocessors and apply each to the image\n",
    "                for p in self.preprocessors:\n",
    "                    image = p.preprocess(image)\n",
    "            # treat our processed image as a \"feature vector\"\n",
    "            #by updating the data list followed by the labels\n",
    "            data.append(image)\n",
    "            labels.append(label)\n",
    "            \n",
    "            if verbose > 0 and i >0 and (i+1) % verbose ==0:\n",
    "                print(\"[INFO] processed {}/{}\".format(i+1, len(imagePaths)))\n",
    "                \n",
    "        return (np.array(data), np.array(labels))"
   ]
  },
  {
   "cell_type": "code",
   "execution_count": 5,
   "metadata": {},
   "outputs": [
    {
     "name": "stdout",
     "output_type": "stream",
     "text": [
      "[INFO] loading images...\n"
     ]
    }
   ],
   "source": [
    "# grab the list of images that we’ll be describing\n",
    "print(\"[INFO] loading images...\")\n",
    "train_imagePaths = list(paths.list_images(\"dataset/train/\"))\n",
    "test_imagePaths = list(paths.list_images(\"dataset/test/\"))\n",
    "validate_imagePaths = list(paths.list_images(\"dataset/validation/\"))"
   ]
  },
  {
   "cell_type": "code",
   "execution_count": 6,
   "metadata": {},
   "outputs": [],
   "source": [
    "\n",
    "# initialize the image preprocessor, load the dataset from disk,\n",
    "# and reshape the data matrix\n",
    "sp = SimplePreprocessor(32, 32)\n",
    "sdl = SimpleDatasetLoader(preprocessors=[sp])\n",
    "lb = LabelBinarizer()"
   ]
  },
  {
   "cell_type": "code",
   "execution_count": 7,
   "metadata": {},
   "outputs": [
    {
     "name": "stdout",
     "output_type": "stream",
     "text": [
      "[INFO] processed 500/854\n"
     ]
    },
    {
     "data": {
      "text/plain": [
       "(854, 32, 32, 3)"
      ]
     },
     "execution_count": 7,
     "metadata": {},
     "output_type": "execute_result"
    }
   ],
   "source": [
    "(trainX, trainY) = sdl.load(train_imagePaths, verbose=500)\n",
    "trainY = lb.fit_transform(trainY)\n",
    "trainX = trainX.astype(\"float\") / 255.0\n",
    "trainX.shape"
   ]
  },
  {
   "cell_type": "code",
   "execution_count": 8,
   "metadata": {},
   "outputs": [
    {
     "data": {
      "text/plain": [
       "(282, 32, 32, 3)"
      ]
     },
     "execution_count": 8,
     "metadata": {},
     "output_type": "execute_result"
    }
   ],
   "source": [
    "(validX, validY) = sdl.load(validate_imagePaths, verbose=500)\n",
    "validY = lb.fit_transform(validY)\n",
    "validX = validX.astype(\"float\") / 255.0\n",
    "validX.shape"
   ]
  },
  {
   "cell_type": "code",
   "execution_count": 9,
   "metadata": {},
   "outputs": [
    {
     "data": {
      "text/plain": [
       "(292, 32, 32, 3)"
      ]
     },
     "execution_count": 9,
     "metadata": {},
     "output_type": "execute_result"
    }
   ],
   "source": [
    "(testX, testY) = sdl.load(test_imagePaths, verbose=500)\n",
    "testY = lb.fit_transform(testY)\n",
    "testX = testX.astype(\"float\") / 255.0\n",
    "testX.shape"
   ]
  },
  {
   "cell_type": "code",
   "execution_count": 10,
   "metadata": {},
   "outputs": [],
   "source": [
    "class MiniVGGNet:\n",
    "    @staticmethod\n",
    "    def build (width, height, depth, classes):\n",
    "        model=Sequential()\n",
    "        inputShape = (height, width, depth)\n",
    "        chanDim = -1\n",
    "        if K.image_data_format() == \"channels_first\":\n",
    "            inputShape = (depth, height, width)\n",
    "            chanDim = 1\n",
    "            \n",
    "        model.add(Conv2D(32, (3,3), padding=\"same\", input_shape=inputShape))\n",
    "        model.add(Activation(\"relu\"))\n",
    "        model.add(BatchNormalization(axis=chanDim))\n",
    "        \n",
    "        model.add(Conv2D(32, (3,3), padding=\"same\"))\n",
    "        model.add(Activation(\"relu\"))\n",
    "        model.add(BatchNormalization(axis=chanDim))\n",
    "        \n",
    "        model.add(MaxPooling2D(pool_size =(2,2)))\n",
    "        model.add(Dropout(0.25))\n",
    "        \n",
    "        model.add(Conv2D(64, (3,3), padding=\"same\"))\n",
    "        model.add(Activation(\"relu\"))\n",
    "        model.add(BatchNormalization(axis=chanDim))\n",
    "        \n",
    "        model.add(Conv2D(64, (3,3), padding=\"same\"))\n",
    "        model.add(Activation(\"relu\"))\n",
    "        model.add(BatchNormalization(axis=chanDim))\n",
    "        \n",
    "        model.add(MaxPooling2D(pool_size =(2,2)))\n",
    "        model.add(Dropout(0.25))\n",
    "        \n",
    "        model.add(Flatten())\n",
    "        model.add(Dense(512))\n",
    "        model.add(Activation(\"relu\"))\n",
    "        model.add(BatchNormalization())\n",
    "        model.add(Dropout(0.5))\n",
    "        \n",
    "        model.add(Dense(classes))\n",
    "        model.add(Activation(\"softmax\"))\n",
    "        \n",
    "        return model"
   ]
  },
  {
   "cell_type": "code",
   "execution_count": 11,
   "metadata": {},
   "outputs": [
    {
     "name": "stdout",
     "output_type": "stream",
     "text": [
      "[INFO] compiling model...\n",
      "WARNING:tensorflow:From /home/irra/anaconda3/lib/python3.7/site-packages/tensorflow/python/ops/resource_variable_ops.py:435: colocate_with (from tensorflow.python.framework.ops) is deprecated and will be removed in a future version.\n",
      "Instructions for updating:\n",
      "Colocations handled automatically by placer.\n",
      "[INFO] model summary\n",
      "Model: \"sequential_1\"\n",
      "_________________________________________________________________\n",
      "Layer (type)                 Output Shape              Param #   \n",
      "=================================================================\n",
      "conv2d_1 (Conv2D)            (None, 32, 32, 32)        896       \n",
      "_________________________________________________________________\n",
      "activation_1 (Activation)    (None, 32, 32, 32)        0         \n",
      "_________________________________________________________________\n",
      "batch_normalization_1 (Batch (None, 32, 32, 32)        128       \n",
      "_________________________________________________________________\n",
      "conv2d_2 (Conv2D)            (None, 32, 32, 32)        9248      \n",
      "_________________________________________________________________\n",
      "activation_2 (Activation)    (None, 32, 32, 32)        0         \n",
      "_________________________________________________________________\n",
      "batch_normalization_2 (Batch (None, 32, 32, 32)        128       \n",
      "_________________________________________________________________\n",
      "max_pooling2d_1 (MaxPooling2 (None, 16, 16, 32)        0         \n",
      "_________________________________________________________________\n",
      "dropout_1 (Dropout)          (None, 16, 16, 32)        0         \n",
      "_________________________________________________________________\n",
      "conv2d_3 (Conv2D)            (None, 16, 16, 64)        18496     \n",
      "_________________________________________________________________\n",
      "activation_3 (Activation)    (None, 16, 16, 64)        0         \n",
      "_________________________________________________________________\n",
      "batch_normalization_3 (Batch (None, 16, 16, 64)        256       \n",
      "_________________________________________________________________\n",
      "conv2d_4 (Conv2D)            (None, 16, 16, 64)        36928     \n",
      "_________________________________________________________________\n",
      "activation_4 (Activation)    (None, 16, 16, 64)        0         \n",
      "_________________________________________________________________\n",
      "batch_normalization_4 (Batch (None, 16, 16, 64)        256       \n",
      "_________________________________________________________________\n",
      "max_pooling2d_2 (MaxPooling2 (None, 8, 8, 64)          0         \n",
      "_________________________________________________________________\n",
      "dropout_2 (Dropout)          (None, 8, 8, 64)          0         \n",
      "_________________________________________________________________\n",
      "flatten_1 (Flatten)          (None, 4096)              0         \n",
      "_________________________________________________________________\n",
      "dense_1 (Dense)              (None, 512)               2097664   \n",
      "_________________________________________________________________\n",
      "activation_5 (Activation)    (None, 512)               0         \n",
      "_________________________________________________________________\n",
      "batch_normalization_5 (Batch (None, 512)               2048      \n",
      "_________________________________________________________________\n",
      "dropout_3 (Dropout)          (None, 512)               0         \n",
      "_________________________________________________________________\n",
      "dense_2 (Dense)              (None, 10)                5130      \n",
      "_________________________________________________________________\n",
      "activation_6 (Activation)    (None, 10)                0         \n",
      "=================================================================\n",
      "Total params: 2,171,178\n",
      "Trainable params: 2,169,770\n",
      "Non-trainable params: 1,408\n",
      "_________________________________________________________________\n"
     ]
    }
   ],
   "source": [
    "# initialize the optimizer and model\n",
    "\n",
    "print(\"[INFO] compiling model...\")\n",
    "opt = SGD(lr=0.01, decay=0.01 / 40, momentum=0.9, nesterov=True)\n",
    "model = MiniVGGNet.build(width=32, height=32, depth=3, classes=10)\n",
    "model.compile(loss=\"categorical_crossentropy\", optimizer=opt, metrics=[\"accuracy\"])\n",
    "print(\"[INFO] model summary\")\n",
    "model.summary()"
   ]
  },
  {
   "cell_type": "code",
   "execution_count": 12,
   "metadata": {},
   "outputs": [
    {
     "name": "stdout",
     "output_type": "stream",
     "text": [
      "[INFO] training network...\n",
      "WARNING:tensorflow:From /home/irra/anaconda3/lib/python3.7/site-packages/tensorflow/python/ops/math_ops.py:3066: to_int32 (from tensorflow.python.ops.math_ops) is deprecated and will be removed in a future version.\n",
      "Instructions for updating:\n",
      "Use tf.cast instead.\n",
      "Train on 854 samples, validate on 282 samples\n",
      "Epoch 1/40\n",
      "854/854 [==============================] - 19s 22ms/step - loss: 1.8288 - accuracy: 0.5796 - val_loss: 8.7353 - val_accuracy: 0.1702\n",
      "Epoch 2/40\n",
      "854/854 [==============================] - 17s 20ms/step - loss: 0.9829 - accuracy: 0.7588 - val_loss: 2.9820 - val_accuracy: 0.4965\n",
      "Epoch 3/40\n",
      "854/854 [==============================] - 16s 19ms/step - loss: 0.7770 - accuracy: 0.8056 - val_loss: 3.1469 - val_accuracy: 0.5780\n",
      "Epoch 4/40\n",
      "854/854 [==============================] - 17s 20ms/step - loss: 0.7614 - accuracy: 0.8103 - val_loss: 1.0222 - val_accuracy: 0.8085\n",
      "Epoch 5/40\n",
      "854/854 [==============================] - 16s 18ms/step - loss: 0.5284 - accuracy: 0.8443 - val_loss: 0.8132 - val_accuracy: 0.8156\n",
      "Epoch 6/40\n",
      "854/854 [==============================] - 15s 18ms/step - loss: 0.4796 - accuracy: 0.8712 - val_loss: 0.7603 - val_accuracy: 0.8440\n",
      "Epoch 7/40\n",
      "854/854 [==============================] - 15s 18ms/step - loss: 0.4114 - accuracy: 0.8841 - val_loss: 0.7164 - val_accuracy: 0.8369\n",
      "Epoch 8/40\n",
      "854/854 [==============================] - 15s 18ms/step - loss: 0.2681 - accuracy: 0.9157 - val_loss: 0.5851 - val_accuracy: 0.8830\n",
      "Epoch 9/40\n",
      "854/854 [==============================] - 14s 16ms/step - loss: 0.1995 - accuracy: 0.9344 - val_loss: 0.6512 - val_accuracy: 0.8652\n",
      "Epoch 10/40\n",
      "854/854 [==============================] - 14s 16ms/step - loss: 0.1736 - accuracy: 0.9450 - val_loss: 0.6657 - val_accuracy: 0.8652\n",
      "Epoch 11/40\n",
      "854/854 [==============================] - 16s 18ms/step - loss: 0.1979 - accuracy: 0.9426 - val_loss: 0.5255 - val_accuracy: 0.8652\n",
      "Epoch 12/40\n",
      "854/854 [==============================] - 15s 17ms/step - loss: 0.1150 - accuracy: 0.9637 - val_loss: 0.7014 - val_accuracy: 0.8546\n",
      "Epoch 13/40\n",
      "854/854 [==============================] - 15s 17ms/step - loss: 0.0895 - accuracy: 0.9696 - val_loss: 0.8827 - val_accuracy: 0.8511\n",
      "Epoch 14/40\n",
      "854/854 [==============================] - 15s 17ms/step - loss: 0.1339 - accuracy: 0.9625 - val_loss: 0.5871 - val_accuracy: 0.8794\n",
      "Epoch 15/40\n",
      "854/854 [==============================] - 15s 17ms/step - loss: 0.1413 - accuracy: 0.9567 - val_loss: 0.9727 - val_accuracy: 0.8333\n",
      "Epoch 16/40\n",
      "854/854 [==============================] - 16s 19ms/step - loss: 0.2284 - accuracy: 0.9344 - val_loss: 1.0941 - val_accuracy: 0.8156\n",
      "Epoch 17/40\n",
      "854/854 [==============================] - 17s 19ms/step - loss: 0.1356 - accuracy: 0.9637 - val_loss: 0.6685 - val_accuracy: 0.8688\n",
      "Epoch 18/40\n",
      "854/854 [==============================] - 15s 18ms/step - loss: 0.1274 - accuracy: 0.9508 - val_loss: 0.5992 - val_accuracy: 0.8972\n",
      "Epoch 19/40\n",
      "854/854 [==============================] - 18s 22ms/step - loss: 0.1597 - accuracy: 0.9496 - val_loss: 0.7563 - val_accuracy: 0.8404\n",
      "Epoch 20/40\n",
      "854/854 [==============================] - 23s 27ms/step - loss: 0.1692 - accuracy: 0.9508 - val_loss: 0.8003 - val_accuracy: 0.8688\n",
      "Epoch 21/40\n",
      "854/854 [==============================] - 23s 27ms/step - loss: 0.1275 - accuracy: 0.9649 - val_loss: 0.7196 - val_accuracy: 0.8830\n",
      "Epoch 22/40\n",
      "854/854 [==============================] - 18s 21ms/step - loss: 0.1084 - accuracy: 0.9602 - val_loss: 0.7279 - val_accuracy: 0.8759\n",
      "Epoch 23/40\n",
      "854/854 [==============================] - 15s 18ms/step - loss: 0.0505 - accuracy: 0.9848 - val_loss: 0.5950 - val_accuracy: 0.8865\n",
      "Epoch 24/40\n",
      "854/854 [==============================] - 17s 20ms/step - loss: 0.0751 - accuracy: 0.9719 - val_loss: 0.5879 - val_accuracy: 0.8865\n",
      "Epoch 25/40\n",
      "854/854 [==============================] - 16s 18ms/step - loss: 0.1100 - accuracy: 0.9696 - val_loss: 0.6063 - val_accuracy: 0.8830\n",
      "Epoch 26/40\n",
      "854/854 [==============================] - 15s 18ms/step - loss: 0.0389 - accuracy: 0.9871 - val_loss: 0.5673 - val_accuracy: 0.8972\n",
      "Epoch 27/40\n",
      "854/854 [==============================] - 15s 18ms/step - loss: 0.0303 - accuracy: 0.9871 - val_loss: 0.6259 - val_accuracy: 0.8794\n",
      "Epoch 28/40\n",
      "854/854 [==============================] - 16s 18ms/step - loss: 0.0198 - accuracy: 0.9953 - val_loss: 0.6094 - val_accuracy: 0.8830\n",
      "Epoch 29/40\n",
      "854/854 [==============================] - 15s 18ms/step - loss: 0.0522 - accuracy: 0.9836 - val_loss: 0.6812 - val_accuracy: 0.8617\n",
      "Epoch 30/40\n",
      "854/854 [==============================] - 15s 18ms/step - loss: 0.0347 - accuracy: 0.9883 - val_loss: 0.6076 - val_accuracy: 0.8901\n",
      "Epoch 31/40\n",
      "854/854 [==============================] - 15s 18ms/step - loss: 0.0173 - accuracy: 0.9953 - val_loss: 0.6199 - val_accuracy: 0.8901\n",
      "Epoch 32/40\n",
      "854/854 [==============================] - 16s 18ms/step - loss: 0.0653 - accuracy: 0.9824 - val_loss: 0.6054 - val_accuracy: 0.8901\n",
      "Epoch 33/40\n",
      "854/854 [==============================] - 15s 18ms/step - loss: 0.0470 - accuracy: 0.9906 - val_loss: 0.6490 - val_accuracy: 0.8652\n",
      "Epoch 34/40\n",
      "854/854 [==============================] - 15s 18ms/step - loss: 0.0463 - accuracy: 0.9789 - val_loss: 0.6900 - val_accuracy: 0.8794\n",
      "Epoch 35/40\n",
      "854/854 [==============================] - 16s 19ms/step - loss: 0.0438 - accuracy: 0.9848 - val_loss: 0.6597 - val_accuracy: 0.8936\n",
      "Epoch 36/40\n",
      "854/854 [==============================] - 16s 19ms/step - loss: 0.0216 - accuracy: 0.9918 - val_loss: 0.6907 - val_accuracy: 0.8830\n",
      "Epoch 37/40\n",
      "854/854 [==============================] - 16s 18ms/step - loss: 0.0573 - accuracy: 0.9813 - val_loss: 0.6388 - val_accuracy: 0.8901\n",
      "Epoch 38/40\n",
      "854/854 [==============================] - 16s 19ms/step - loss: 0.0213 - accuracy: 0.9918 - val_loss: 0.6483 - val_accuracy: 0.8936\n",
      "Epoch 39/40\n",
      "854/854 [==============================] - 15s 18ms/step - loss: 0.0486 - accuracy: 0.9918 - val_loss: 0.5961 - val_accuracy: 0.8936\n",
      "Epoch 40/40\n",
      "854/854 [==============================] - 16s 18ms/step - loss: 0.0345 - accuracy: 0.9918 - val_loss: 0.6246 - val_accuracy: 0.8936\n"
     ]
    }
   ],
   "source": [
    "# train the network\n",
    "print(\"[INFO] training network...\")\n",
    "H = model.fit(trainX, trainY, validation_data=(validX, validY),\n",
    "              batch_size=16, epochs=40, verbose=1)"
   ]
  },
  {
   "cell_type": "code",
   "execution_count": 13,
   "metadata": {},
   "outputs": [
    {
     "name": "stdout",
     "output_type": "stream",
     "text": [
      "[INFO] evaluating network...\n",
      "              precision    recall  f1-score   support\n",
      "\n",
      "    Leopards       1.00      0.97      0.99        40\n",
      "   airplanes       0.96      0.99      0.98       160\n",
      "   binocular       0.86      0.75      0.80         8\n",
      "      cannon       1.00      0.60      0.75        10\n",
      " cougar_face       0.69      0.73      0.71        15\n",
      " dollar_bill       0.85      1.00      0.92        11\n",
      "        ewer       0.74      0.82      0.78        17\n",
      "     gerenuk       0.38      0.38      0.38         8\n",
      "        ibis       0.73      0.69      0.71        16\n",
      "   metronome       1.00      0.57      0.73         7\n",
      "\n",
      "    accuracy                           0.90       292\n",
      "   macro avg       0.82      0.75      0.77       292\n",
      "weighted avg       0.91      0.90      0.90       292\n",
      "\n"
     ]
    }
   ],
   "source": [
    "# evaluate the network\n",
    "print(\"[INFO] evaluating network...\")\n",
    "predictions = model.predict(testX, batch_size=16)\n",
    "print(classification_report(testY.argmax(axis=1),\n",
    "                            predictions.argmax(axis=1), \n",
    "                            target_names=[str(x) for x in lb.classes_]))\n"
   ]
  },
  {
   "cell_type": "code",
   "execution_count": 15,
   "metadata": {},
   "outputs": [
    {
     "name": "stdout",
     "output_type": "stream",
     "text": [
      "plot the training loss and accuracy\n"
     ]
    },
    {
     "data": {
      "image/png": "[encoded data removed]",
      "text/plain": [
       "<Figure size 432x288 with 1 Axes>"
      ]
     },
     "metadata": {},
     "output_type": "display_data"
    }
   ],
   "source": [
    "%matplotlib inline\n",
    "print(\"plot the training loss and accuracy\")\n",
    "plt.style.use(\"ggplot\")\n",
    "plt.figure()\n",
    "plt.plot(np.arange(0, 40), H.history[\"loss\"], label=\"train_loss\")\n",
    "plt.plot(np.arange(0, 40), H.history[\"val_loss\"], label=\"val_loss\")\n",
    "plt.title(\" Loss \")\n",
    "plt.xlabel(\"Epoch #\")\n",
    "plt.ylabel(\"Loss\")\n",
    "plt.legend()\n",
    "plt.show()"
   ]
  },
  {
   "cell_type": "code",
   "execution_count": 17,
   "metadata": {},
   "outputs": [
    {
     "data": {
      "image/png": "[encoded data removed]",
      "text/plain": [
       "<Figure size 432x288 with 1 Axes>"
      ]
     },
     "metadata": {},
     "output_type": "display_data"
    }
   ],
   "source": [
    "%matplotlib inline\n",
    "plt.style.use(\"ggplot\")\n",
    "plt.figure()\n",
    "plt.plot(np.arange(0, 40), H.history[\"accuracy\"], label=\"train_acc\")\n",
    "plt.plot(np.arange(0, 40), H.history[\"val_accuracy\"], label=\"val_acc\")\n",
    "plt.title(\" Accuracy \")\n",
    "plt.xlabel(\"Epoch #\")\n",
    "plt.ylabel(\"Accuracy\")\n",
    "plt.legend()\n",
    "plt.show()"
   ]
  },
  {
   "cell_type": "code",
   "execution_count": null,
   "metadata": {},
   "outputs": [],
   "source": [
    "model.save('model.json')"
   ]
  }
 ],
 "metadata": {
  "kernelspec": {
   "display_name": "Python 3",
   "language": "python",
   "name": "python3"
  },
  "language_info": {
   "codemirror_mode": {
    "name": "ipython",
    "version": 3
   },
   "file_extension": ".py",
   "mimetype": "text/x-python",
   "name": "python",
   "nbconvert_exporter": "python",
   "pygments_lexer": "ipython3",
   "version": "3.7.4"
  }
 },
 "nbformat": 4,
 "nbformat_minor": 2
}
